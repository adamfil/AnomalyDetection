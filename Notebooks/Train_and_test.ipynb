{
 "cells": [
  {
   "cell_type": "markdown",
   "metadata": {
    "toc": true
   },
   "source": [
    "<h1>Table of Contents<span class=\"tocSkip\"></span></h1>\n",
    "<div class=\"toc\"><ul class=\"toc-item\"><li><span><a href=\"#Snow-Depth-3022\" data-toc-modified-id=\"Snow-Depth-3022-1\"><span class=\"toc-item-num\">1&nbsp;&nbsp;</span>Snow Depth 3022</a></span><ul class=\"toc-item\"><li><span><a href=\"#Test---Performance\" data-toc-modified-id=\"Test---Performance-1.1\"><span class=\"toc-item-num\">1.1&nbsp;&nbsp;</span>Test - Performance</a></span></li><li><span><a href=\"#Overall---Performance\" data-toc-modified-id=\"Overall---Performance-1.2\"><span class=\"toc-item-num\">1.2&nbsp;&nbsp;</span>Overall - Performance</a></span></li><li><span><a href=\"#Explainability\" data-toc-modified-id=\"Explainability-1.3\"><span class=\"toc-item-num\">1.3&nbsp;&nbsp;</span>Explainability</a></span><ul class=\"toc-item\"><li><span><a href=\"#Panel-Temperature\" data-toc-modified-id=\"Panel-Temperature-1.3.1\"><span class=\"toc-item-num\">1.3.1&nbsp;&nbsp;</span>Panel Temperature</a></span></li><li><span><a href=\"#Hour-of-Day\" data-toc-modified-id=\"Hour-of-Day-1.3.2\"><span class=\"toc-item-num\">1.3.2&nbsp;&nbsp;</span>Hour of Day</a></span></li></ul></li></ul></li></ul></div>"
   ]
  },
  {
   "cell_type": "code",
   "execution_count": 1,
   "metadata": {},
   "outputs": [],
   "source": [
    "# for auto-reloading external modules\n",
    "# see http://stackoverflow.com/questions/1907993/autoreload-of-modules-in-ipython\n",
    "%load_ext autoreload\n",
    "%autoreload 2"
   ]
  },
  {
   "cell_type": "code",
   "execution_count": 5,
   "metadata": {},
   "outputs": [],
   "source": [
    "import sys\n",
    "sys.path.insert(1, '../src/data')"
   ]
  },
  {
   "cell_type": "code",
   "execution_count": 6,
   "metadata": {},
   "outputs": [],
   "source": [
    "import matplotlib\n",
    "import matplotlib.pyplot as plt\n",
    "\n",
    "from sklearn.metrics import plot_confusion_matrix \n",
    "from sklearn.ensemble import RandomForestClassifier as rfc\n",
    "from sklearn.model_selection import train_test_split \n",
    "from sklearn.inspection import permutation_importance, plot_partial_dependence\n",
    "\n",
    "from imblearn.over_sampling import ADASYN, SMOTE, RandomOverSampler\n",
    "from imblearn.pipeline import make_pipeline\n",
    "\n",
    "from xml2dict import *\n",
    "from dict2tabular import *"
   ]
  },
  {
   "cell_type": "markdown",
   "metadata": {},
   "source": [
    "We use a subset of the data where any QA test has failed, to then filter to only those which failed the QA test for our target variable. "
   ]
  },
  {
   "cell_type": "code",
   "execution_count": null,
   "metadata": {},
   "outputs": [],
   "source": [
    "df_qa_failed = read_pickle(file='../data/processed/df_complete_qa_not_passed.pickle')"
   ]
  },
  {
   "cell_type": "code",
   "execution_count": null,
   "metadata": {},
   "outputs": [],
   "source": [
    "def qa_failed_to_ml_input(target_var: str, df_qa_failed):\n",
    "    if not isinstance(df_qa_failed, pd.DataFrame):\n",
    "        df_qa_failed = read_pickle(file='../data/processed/df_complete_qa_not_passed.pickle')\n",
    "    \n",
    "    df_ml = create_target_variable(df=df_qa_failed,\n",
    "                                   var_list=[target_var], \n",
    "                                   qa_false_negative=False,\n",
    "                                   qa_false_positive=False)\n",
    "    # Delete information not available at prediction time and sensors without meaning (dummy/deactivated)\n",
    "    cols = list(df_ml.columns)\n",
    "    cols = [col for col in cols if all(substring not in col for substring in ['post_mc', \n",
    "                                                                              'orig-value', \n",
    "                                                                              'override', \n",
    "                                                                              'dummy', \n",
    "                                                                              'deactivated'])]\n",
    "    df_ml = df_ml[cols].copy()\n",
    "    \n",
    "    # Primary goal is to reduce the number of checks which have to be done during manuel correction therefore we focus on the false negatives\n",
    "    failed_qa_cond = (df_ml[target_var+'_overall_qa_summary']!='100') & (df_ml[target_var+'_overall_qa_summary'].notnull()) \n",
    "    df_ml = df_ml[failed_qa_cond].copy()\n",
    "    \n",
    "    return df_ml"
   ]
  },
  {
   "cell_type": "code",
   "execution_count": 6,
   "metadata": {},
   "outputs": [
    {
     "name": "stdout",
     "output_type": "stream",
     "text": [
      "CPU times: user 33.1 s, sys: 3min 39s, total: 4min 12s\n",
      "Wall time: 9min 37s\n"
     ]
    }
   ],
   "source": [
    "%%time \n",
    "target_var = 'snow_depth_3022'\n",
    "df_ml = qa_failed_to_ml_input(target_var=target_var, df_qa_failed=df_qa_failed)"
   ]
  },
  {
   "cell_type": "code",
   "execution_count": 7,
   "metadata": {},
   "outputs": [],
   "source": [
    "def convert_datatypes(df_ml):\n",
    "    auto_qa_result_cols = get_sublist_containing_string(input_list=list(df_ml.columns), substrings='_qa')\n",
    "    measurement_value_cols = get_sublist_containing_string(input_list=list(df_ml.columns), substrings='_value')\n",
    "    derived_value_cols = get_sublist_containing_string(input_list=list(df_ml.columns), substrings='-derived')\n",
    "    \n",
    "    stations_categorical = ['tc_identifier']\n",
    "    station_characteristics = ['latitude', 'longitude', 'station_elevation']\n",
    "    time_cols = ['date_time']\n",
    "\n",
    "    floating = station_characteristics + measurement_value_cols + derived_value_cols + auto_qa_result_cols\n",
    "    datetime = time_cols\n",
    "    categorical = stations_categorical\n",
    "    \n",
    "    for num_col in floating:\n",
    "        df_ml.loc[:, num_col] = pd.to_numeric(df_ml[num_col], errors='coerce')\n",
    "     \n",
    "    for cat_col in categorical:\n",
    "        df_stations_dummy = pd.get_dummies(df_ml.tc_identifier, prefix=\"station\")\n",
    "        df_ml = pd.concat([df_stations_dummy, df_ml], axis=1) \n",
    "            \n",
    "    for date in datetime:\n",
    "        df_ml.loc[:, date] = pd.to_datetime(df_ml[date], errors='coerce')\n",
    "        \n",
    "    native_cols = get_sublist_containing_string(input_list=list(df_ml.columns), substrings='native')\n",
    "    for col in native_cols:\n",
    "        df_ml[col] = pd.to_numeric(df_ml[col].map({'N': 0, 'Y': 1}), errors='coerce')\n",
    "    \n",
    "    return df_ml.copy()"
   ]
  },
  {
   "cell_type": "code",
   "execution_count": 9,
   "metadata": {},
   "outputs": [],
   "source": [
    "df_ml.dropna(how='all', axis=1, inplace=True)"
   ]
  },
  {
   "cell_type": "code",
   "execution_count": 10,
   "metadata": {},
   "outputs": [
    {
     "data": {
      "text/plain": [
       "(44373, 2689)"
      ]
     },
     "execution_count": 10,
     "metadata": {},
     "output_type": "execute_result"
    }
   ],
   "source": [
    "df_ml.shape"
   ]
  },
  {
   "cell_type": "code",
   "execution_count": 11,
   "metadata": {},
   "outputs": [
    {
     "name": "stdout",
     "output_type": "stream",
     "text": [
      "CPU times: user 1h 3min 22s, sys: 3h 43min 23s, total: 4h 46min 46s\n",
      "Wall time: 7h 13min 49s\n"
     ]
    }
   ],
   "source": [
    "%%time\n",
    "df_ml = convert_datatypes(df_ml)"
   ]
  },
  {
   "cell_type": "code",
   "execution_count": 13,
   "metadata": {},
   "outputs": [],
   "source": [
    "save_pickle(folder_path='../data/processed/', file_name='df_snow_depth_3022', save_object=df_ml)"
   ]
  },
  {
   "cell_type": "markdown",
   "metadata": {},
   "source": [
    "# Snow Depth 3022"
   ]
  },
  {
   "cell_type": "markdown",
   "metadata": {},
   "source": [
    "We suspect that some types of events might be occuring only seasonal. To make it more likely that a sample of this event type is provided for the training set, we will use a **random sampling** method for the creation of our training and test set. Using this approach we have to be careful to avoid **information leakage** to the algorithm which normally isn't available at prediction time (e.g. a specific day were all values were changed). Therefore, we will not use the date information of day and month, but only the time in the day. "
   ]
  },
  {
   "cell_type": "code",
   "execution_count": 4,
   "metadata": {},
   "outputs": [],
   "source": [
    "target_var = 'snow_depth_3022'"
   ]
  },
  {
   "cell_type": "code",
   "execution_count": 5,
   "metadata": {},
   "outputs": [],
   "source": [
    "X = read_pickle(file='../data/processed/df_snow_depth_3022.pickle')"
   ]
  },
  {
   "cell_type": "code",
   "execution_count": 7,
   "metadata": {},
   "outputs": [],
   "source": [
    "# Add another feature for hour of the day\n",
    "X['hour_of_day'] = X.date_time.dt.hour\n",
    "\n",
    "# A lot of columns are mainly empty and we restrict ourselves to the complete columns\n",
    "X = X.dropna(how='any', axis=1)\n",
    "\n",
    "# Target Variable\n",
    "y = X['snow_depth_3022_target']\n",
    "\n",
    "# Drop all columns with information which should not be used during prediction\n",
    "del_cols = ['origin_filename', 'station_time_identifier', 'tc_identifier','snow_depth_3022_target', 'date_time', \n",
    "            'station_name', 'version', 'correction', 'source_uri', 'station_identifier', '_merge']\n",
    "X.drop(del_cols , axis = 1, inplace=True) "
   ]
  },
  {
   "cell_type": "markdown",
   "metadata": {},
   "source": [
    "**Class Imbalance**: We have a lot more samples where the automatic QA result was not changed then samples where the manual correction actually overturned the result. "
   ]
  },
  {
   "cell_type": "code",
   "execution_count": 9,
   "metadata": {},
   "outputs": [
    {
     "data": {
      "text/plain": [
       "0    44297\n",
       "1       76\n",
       "Name: snow_depth_3022_target, dtype: int64"
      ]
     },
     "execution_count": 9,
     "metadata": {},
     "output_type": "execute_result"
    }
   ],
   "source": [
    "y.value_counts()"
   ]
  },
  {
   "cell_type": "code",
   "execution_count": 10,
   "metadata": {},
   "outputs": [
    {
     "data": {
      "text/plain": [
       "0.0017127532508507425"
      ]
     },
     "execution_count": 10,
     "metadata": {},
     "output_type": "execute_result"
    }
   ],
   "source": [
    "imbalance_score = y.mean()\n",
    "imbalance_score"
   ]
  },
  {
   "cell_type": "code",
   "execution_count": 11,
   "metadata": {},
   "outputs": [],
   "source": [
    "X_train, X_test, y_train, y_test = train_test_split(X, y, test_size=0.2, random_state=42)"
   ]
  },
  {
   "cell_type": "code",
   "execution_count": 12,
   "metadata": {},
   "outputs": [],
   "source": [
    "rfc_estimator = rfc(n_estimators=1000, \n",
    "                    min_samples_leaf=2, \n",
    "                    n_jobs=7)\n",
    "\n",
    "\n",
    "sampler = ADASYN()\n",
    "clf = make_pipeline(sampler, rfc_estimator)"
   ]
  },
  {
   "cell_type": "code",
   "execution_count": 13,
   "metadata": {},
   "outputs": [
    {
     "data": {
      "text/plain": [
       "Pipeline(memory=None,\n",
       "         steps=[('adasyn',\n",
       "                 ADASYN(n_jobs=None, n_neighbors=5, random_state=None,\n",
       "                        sampling_strategy='auto')),\n",
       "                ('randomforestclassifier',\n",
       "                 RandomForestClassifier(bootstrap=True, ccp_alpha=0.0,\n",
       "                                        class_weight=None, criterion='gini',\n",
       "                                        max_depth=None, max_features='auto',\n",
       "                                        max_leaf_nodes=None, max_samples=None,\n",
       "                                        min_impurity_decrease=0.0,\n",
       "                                        min_impurity_split=None,\n",
       "                                        min_samples_leaf=2, min_samples_split=2,\n",
       "                                        min_weight_fraction_leaf=0.0,\n",
       "                                        n_estimators=1000, n_jobs=7,\n",
       "                                        oob_score=False, random_state=None,\n",
       "                                        verbose=0, warm_start=False))],\n",
       "         verbose=False)"
      ]
     },
     "execution_count": 13,
     "metadata": {},
     "output_type": "execute_result"
    }
   ],
   "source": [
    "clf.fit(X_train, y_train)"
   ]
  },
  {
   "cell_type": "code",
   "execution_count": 14,
   "metadata": {},
   "outputs": [],
   "source": [
    "save_pickle(folder_path= '../models/', file_name='random_forest_final_poc', save_object=rfc_estimator)"
   ]
  },
  {
   "cell_type": "markdown",
   "metadata": {},
   "source": [
    "## Test - Performance"
   ]
  },
  {
   "cell_type": "markdown",
   "metadata": {},
   "source": [
    "We verify how the performance is on unseen data. For that reason we have been holding back 20% of the data from the training."
   ]
  },
  {
   "cell_type": "code",
   "execution_count": null,
   "metadata": {},
   "outputs": [],
   "source": [
    "rfc_estimator = read_pickle(file='../models/random_forest_final_poc.pickle')"
   ]
  },
  {
   "cell_type": "code",
   "execution_count": 59,
   "metadata": {},
   "outputs": [
    {
     "data": {
      "text/plain": [
       "<sklearn.metrics._plot.confusion_matrix.ConfusionMatrixDisplay at 0x130f20a90>"
      ]
     },
     "execution_count": 59,
     "metadata": {},
     "output_type": "execute_result"
    },
    {
     "data": {
      "image/png": "[encoded data removed]",
      "text/plain": [
       "<Figure size 432x288 with 2 Axes>"
      ]
     },
     "metadata": {
      "needs_background": "light"
     },
     "output_type": "display_data"
    }
   ],
   "source": [
    "plot_confusion_matrix(rfc_estimator, X_test, y_test,\n",
    "                      cmap=plt.cm.Blues, values_format='d')"
   ]
  },
  {
   "cell_type": "markdown",
   "metadata": {},
   "source": [
    "The true label refers to whether (1) or not (0) the value was actually changed, and the predicted label reflects the prediction of the classification model. \n",
    "\n",
    "We can see that on unseen data **14 out of 15 actual changes (93%)** have been correctly predicted, which is called **recall** in Machine Learning terminology. On the other side is the so-called **precision** which is **14 out of 28 (50%)** in our case and gives the percentage of predicted changes which are actually changed. "
   ]
  },
  {
   "cell_type": "markdown",
   "metadata": {},
   "source": [
    "## Overall - Performance"
   ]
  },
  {
   "cell_type": "code",
   "execution_count": 60,
   "metadata": {},
   "outputs": [
    {
     "data": {
      "text/plain": [
       "<sklearn.metrics._plot.confusion_matrix.ConfusionMatrixDisplay at 0x130f394c0>"
      ]
     },
     "execution_count": 60,
     "metadata": {},
     "output_type": "execute_result"
    },
    {
     "data": {
      "image/png": "[encoded data removed]",
      "text/plain": [
       "<Figure size 432x288 with 2 Axes>"
      ]
     },
     "metadata": {
      "needs_background": "light"
     },
     "output_type": "display_data"
    }
   ],
   "source": [
    "plot_confusion_matrix(rfc_estimator, X, y,\n",
    "                      cmap=plt.cm.Blues, values_format='d')"
   ]
  },
  {
   "cell_type": "markdown",
   "metadata": {},
   "source": [
    "The proportions of all four values are roughly identical which is another great observation in terms of the model quality. It means that the model is not overfitting to the data in has been seen during the training phase but actually identified patterns in the data which generalize well to the unseen data. "
   ]
  },
  {
   "cell_type": "markdown",
   "metadata": {},
   "source": [
    "## Explainability"
   ]
  },
  {
   "cell_type": "code",
   "execution_count": 61,
   "metadata": {},
   "outputs": [
    {
     "name": "stdout",
     "output_type": "stream",
     "text": [
      "Feature ranking:\n",
      "1. panel_temperature_1015_value (0.144438)\n",
      "2. hour_of_day (0.114286)\n",
      "3. snow_depth_3022_qa-temporal_summary (0.105447)\n",
      "4. snow_depth_3024_qa-temporal_summary (0.094807)\n",
      "5. snow_depth_3023_qa-temporal_summary (0.089230)\n",
      "6. snow_depth_3022_qa-range_summary (0.044155)\n",
      "7. snow_depth_3024_qa-range_summary (0.044047)\n",
      "8. snow_depth_3023_qa-range_summary (0.037338)\n",
      "9. longitude (0.029321)\n",
      "10. latitude (0.024235)\n",
      "11. snow_depth_3023_qa-integrity_summary (0.022541)\n",
      "12. snow_depth_3023_qa-presence_summary (0.019663)\n",
      "13. snow_depth_3022_qa-presence_summary (0.018965)\n",
      "14. snow_depth_3022_qa-integrity_summary (0.018465)\n",
      "15. station_WIC (0.017660)\n",
      "16. station_elevation (0.017462)\n",
      "17. snow_depth_3024_qa-presence_summary (0.017269)\n",
      "18. snow_depth_3024_qa-integrity_summary (0.015610)\n",
      "19. station_NGH (0.012137)\n",
      "20. snow_depth_3024_overall_qa_summary (0.007938)\n",
      "21. snow_depth_3022_overall_qa_summary (0.007677)\n",
      "22. snow_depth_3024_native-suppressed (0.007233)\n",
      "23. snow_depth_3022_native-suppressed (0.006584)\n",
      "24. station_XCM (0.006457)\n",
      "25. station_MFJ (0.006110)\n",
      "26. snow_depth_3023_native-suppressed (0.006000)\n",
      "27. snow_depth_3023_overall_qa_summary (0.005625)\n"
     ]
    }
   ],
   "source": [
    "def print_importances(X, estimator, threshold= 0.005):\n",
    "    importances = estimator.feature_importances_\n",
    "    std = np.std([tree.feature_importances_ for tree in rfc_estimator.estimators_], axis=0)\n",
    "    indices = np.argsort(importances)[::-1]\n",
    "\n",
    "    # Print the feature ranking\n",
    "    print(\"Feature ranking:\")\n",
    "\n",
    "    for f in range(X.shape[1]):\n",
    "        if importances[indices[f]]>threshold:\n",
    "            print(\"%d. %s (%f)\" % (f + 1, X.columns[indices[f]], importances[indices[f]]))\n",
    "\n",
    "def plot_importances(X, estimator, threshold= 0.005):\n",
    "    importances = estimator.feature_importances_\n",
    "    num_relevant_features = (importances>threshold).sum()\n",
    "    std = np.std([tree.feature_importances_ for tree in rfc_estimator.estimators_], axis=0)\n",
    "    indices = np.argsort(importances)[::-1]\n",
    "    indices = indices[0:num_relevant_features]\n",
    "\n",
    "    \n",
    "    # Plot the feature importances of the forest\n",
    "    plt.figure(figsize=(30,10))\n",
    "    plt.title(\"Feature importances\")\n",
    "    plt.bar(range(num_relevant_features), importances[indices], color=\"#1F968BFF\", yerr=std[indices], align=\"center\")\n",
    "    plt.xticks(range(num_relevant_features), X.columns[indices],rotation=90)\n",
    "    plt.xlim([-1, num_relevant_features])\n",
    "    plt.show()\n",
    "    \n",
    "print_importances(X=X, estimator=rfc_estimator, threshold= 0.005)"
   ]
  },
  {
   "cell_type": "code",
   "execution_count": 62,
   "metadata": {},
   "outputs": [
    {
     "data": {
      "image/png": "[encoded data removed]",
      "text/plain": [
       "<Figure size 2160x720 with 1 Axes>"
      ]
     },
     "metadata": {
      "needs_background": "light"
     },
     "output_type": "display_data"
    }
   ],
   "source": [
    "plot_importances(X=X, estimator=rfc_estimator, threshold= 0.005)"
   ]
  },
  {
   "cell_type": "markdown",
   "metadata": {},
   "source": [
    "### Panel Temperature"
   ]
  },
  {
   "cell_type": "code",
   "execution_count": 63,
   "metadata": {},
   "outputs": [
    {
     "data": {
      "image/png": "[encoded data removed]",
      "text/plain": [
       "<Figure size 432x288 with 1 Axes>"
      ]
     },
     "metadata": {
      "needs_background": "light"
     },
     "output_type": "display_data"
    }
   ],
   "source": [
    "df = pd.concat([y, X], axis=1)\n",
    "def plot_variable_target_hist(df, variable, title, target, log_scale=True):\n",
    "    \"\"\" Plots the distribution of values of a variable for both classes of the target variable.\n",
    "    \n",
    "    Params:\n",
    "        df (pd.DataFrame) - DataFrame containing the target variables and the \n",
    "    \n",
    "    \"\"\"\n",
    "    plt.viridis()\n",
    "    plt.hist(df[df[target]==False][variable].reset_index(drop=True), alpha=1, color='#1F968BFF', label=\"Unchanged in MC\")\n",
    "    plt.hist(df[df[target]==True][variable].reset_index(drop=True), color='#DCE319FF', label=\"Changed in MC\")\n",
    "    if log_scale:\n",
    "        plt.yscale('log')\n",
    "    plt.title(title)\n",
    "    plt.legend()\n",
    "    plt.show()\n",
    "    \n",
    "target = \"snow_depth_3022_target\"\n",
    "variable = \"panel_temperature_1015_value\"\n",
    "title = 'Panel Temperature'\n",
    "\n",
    "plot_variable_target_hist(df, variable,title, target, log_scale=True)"
   ]
  },
  {
   "cell_type": "markdown",
   "metadata": {},
   "source": [
    "We can see that there is an interaction between the panel temperature range and the likelihood that a value has been changed during the manual correction. While the panel temperature varies between -40 and 40 degrees all the changes during manual correction are related to cases where the temperature was between -22 and 8 degrees. \n",
    "\n",
    "Additionally, we can use partial dependency plots to investigate the importance the model on average assign to a certain panal temperature. In this case (classification) it shows how much it affects the probability that a sample is classified as 'manually corrected'. "
   ]
  },
  {
   "cell_type": "code",
   "execution_count": 71,
   "metadata": {},
   "outputs": [
    {
     "data": {
      "text/plain": [
       "<sklearn.inspection._partial_dependence.PartialDependenceDisplay at 0x119803df0>"
      ]
     },
     "execution_count": 71,
     "metadata": {},
     "output_type": "execute_result"
    },
    {
     "data": {
      "image/png": "[encoded data removed]",
      "text/plain": [
       "<Figure size 432x288 with 2 Axes>"
      ]
     },
     "metadata": {
      "needs_background": "light"
     },
     "output_type": "display_data"
    }
   ],
   "source": [
    "plot_partial_dependence(rfc_estimator, \n",
    "                        X, \n",
    "                        ['panel_temperature_1015_value'],\n",
    "                       n_jobs=7)"
   ]
  },
  {
   "cell_type": "markdown",
   "metadata": {},
   "source": [
    "It can be seen that it effects the probability by 0.06-0.07 as long as the panel temperature is below 2-3 degrees and then afterwards has no real influence anymore. Given that the threshold for classifying the sample (as belonging to the samples which were changed) is at 0.5, it means that for low panel temperatures up to 14% of the final decision might be based on the panel temperature.  "
   ]
  },
  {
   "cell_type": "markdown",
   "metadata": {},
   "source": [
    "### Hour of Day"
   ]
  },
  {
   "cell_type": "code",
   "execution_count": 64,
   "metadata": {},
   "outputs": [
    {
     "data": {
      "image/png": "[encoded data removed]",
      "text/plain": [
       "<Figure size 432x288 with 1 Axes>"
      ]
     },
     "metadata": {
      "needs_background": "light"
     },
     "output_type": "display_data"
    }
   ],
   "source": [
    "plot_variable_target_hist(df, 'hour_of_day', \"Hour of the Day\", target, log_scale=True)"
   ]
  },
  {
   "cell_type": "code",
   "execution_count": 72,
   "metadata": {},
   "outputs": [
    {
     "data": {
      "text/plain": [
       "<sklearn.inspection._partial_dependence.PartialDependenceDisplay at 0x11e581820>"
      ]
     },
     "execution_count": 72,
     "metadata": {},
     "output_type": "execute_result"
    },
    {
     "data": {
      "image/png": "[encoded data removed]",
      "text/plain": [
       "<Figure size 432x288 with 2 Axes>"
      ]
     },
     "metadata": {
      "needs_background": "light"
     },
     "output_type": "display_data"
    }
   ],
   "source": [
    "plot_partial_dependence(rfc_estimator, \n",
    "                        X, \n",
    "                        ['hour_of_day'],\n",
    "                       n_jobs=7)"
   ]
  }
 ],
 "metadata": {
  "kernelspec": {
   "display_name": "Python 3",
   "language": "python",
   "name": "python3"
  },
  "language_info": {
   "codemirror_mode": {
    "name": "ipython",
    "version": 3
   },
   "file_extension": ".py",
   "mimetype": "text/x-python",
   "name": "python",
   "nbconvert_exporter": "python",
   "pygments_lexer": "ipython3",
   "version": "3.8.2"
  },
  "toc": {
   "base_numbering": 1,
   "nav_menu": {},
   "number_sections": true,
   "sideBar": true,
   "skip_h1_title": false,
   "title_cell": "Table of Contents",
   "title_sidebar": "Contents",
   "toc_cell": true,
   "toc_position": {},
   "toc_section_display": true,
   "toc_window_display": false
  }
 },
 "nbformat": 4,
 "nbformat_minor": 4
}
